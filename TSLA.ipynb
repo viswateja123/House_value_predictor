{
  "nbformat": 4,
  "nbformat_minor": 0,
  "metadata": {
    "colab": {
      "name": "TSLA.ipynb",
      "provenance": [],
      "authorship_tag": "ABX9TyPTZWOn5VBsa27l4XeH/Abr",
      "include_colab_link": true
    },
    "kernelspec": {
      "name": "python3",
      "display_name": "Python 3"
    },
    "language_info": {
      "name": "python"
    }
  },
  "cells": [
    {
      "cell_type": "markdown",
      "metadata": {
        "id": "view-in-github",
        "colab_type": "text"
      },
      "source": [
        "<a href=\"https://colab.research.google.com/github/viswateja123/House_value_predictor/blob/main/TSLA.ipynb\" target=\"_parent\"><img src=\"https://colab.research.google.com/assets/colab-badge.svg\" alt=\"Open In Colab\"/></a>"
      ]
    },
    {
      "cell_type": "code",
      "metadata": {
        "id": "jL9VMlcwC1Z-"
      },
      "source": [
        "import pandas as pd\n",
        "import numpy as np"
      ],
      "execution_count": 1,
      "outputs": []
    },
    {
      "cell_type": "code",
      "metadata": {
        "colab": {
          "base_uri": "https://localhost:8080/"
        },
        "id": "OeBkOhj4DFUN",
        "outputId": "c8749946-a6ed-44fc-b06e-a310d4dd13ca"
      },
      "source": [
        "r=pd.read_csv('tesla.csv.csv')\n",
        "print(r)"
      ],
      "execution_count": 2,
      "outputs": [
        {
          "output_type": "stream",
          "text": [
            "           Date        Open        High  ...       Close    Volume   Adj Close\n",
            "0     6/29/2010   19.000000   25.000000  ...   23.889999  18766300   23.889999\n",
            "1     6/30/2010   25.790001   30.420000  ...   23.830000  17187100   23.830000\n",
            "2      7/1/2010   25.000000   25.920000  ...   21.959999   8218800   21.959999\n",
            "3      7/2/2010   23.000000   23.100000  ...   19.200001   5139800   19.200001\n",
            "4      7/6/2010   20.000000   20.000000  ...   16.110001   6866900   16.110001\n",
            "...         ...         ...         ...  ...         ...       ...         ...\n",
            "1687  3/13/2017  244.820007  246.850006  ...  246.169998   3010700  246.169998\n",
            "1688  3/14/2017  246.110001  258.119995  ...  258.000000   7575500  258.000000\n",
            "1689  3/15/2017  257.000000  261.000000  ...  255.729996   4816600  255.729996\n",
            "1690  3/16/2017  262.399994  265.750000  ...  262.049988   7100400  262.049988\n",
            "1691  3/17/2017  264.000000  265.329987  ...  261.500000   6475900  261.500000\n",
            "\n",
            "[1692 rows x 7 columns]\n"
          ],
          "name": "stdout"
        }
      ]
    },
    {
      "cell_type": "code",
      "metadata": {
        "colab": {
          "base_uri": "https://localhost:8080/",
          "height": 197
        },
        "id": "Cf7uKrKCDM4g",
        "outputId": "ff45676b-c360-417a-95f7-d4eac3978d38"
      },
      "source": [
        "r.head(5)"
      ],
      "execution_count": 3,
      "outputs": [
        {
          "output_type": "execute_result",
          "data": {
            "text/html": [
              "<div>\n",
              "<style scoped>\n",
              "    .dataframe tbody tr th:only-of-type {\n",
              "        vertical-align: middle;\n",
              "    }\n",
              "\n",
              "    .dataframe tbody tr th {\n",
              "        vertical-align: top;\n",
              "    }\n",
              "\n",
              "    .dataframe thead th {\n",
              "        text-align: right;\n",
              "    }\n",
              "</style>\n",
              "<table border=\"1\" class=\"dataframe\">\n",
              "  <thead>\n",
              "    <tr style=\"text-align: right;\">\n",
              "      <th></th>\n",
              "      <th>Date</th>\n",
              "      <th>Open</th>\n",
              "      <th>High</th>\n",
              "      <th>Low</th>\n",
              "      <th>Close</th>\n",
              "      <th>Volume</th>\n",
              "      <th>Adj Close</th>\n",
              "    </tr>\n",
              "  </thead>\n",
              "  <tbody>\n",
              "    <tr>\n",
              "      <th>0</th>\n",
              "      <td>6/29/2010</td>\n",
              "      <td>19.000000</td>\n",
              "      <td>25.00</td>\n",
              "      <td>17.540001</td>\n",
              "      <td>23.889999</td>\n",
              "      <td>18766300</td>\n",
              "      <td>23.889999</td>\n",
              "    </tr>\n",
              "    <tr>\n",
              "      <th>1</th>\n",
              "      <td>6/30/2010</td>\n",
              "      <td>25.790001</td>\n",
              "      <td>30.42</td>\n",
              "      <td>23.299999</td>\n",
              "      <td>23.830000</td>\n",
              "      <td>17187100</td>\n",
              "      <td>23.830000</td>\n",
              "    </tr>\n",
              "    <tr>\n",
              "      <th>2</th>\n",
              "      <td>7/1/2010</td>\n",
              "      <td>25.000000</td>\n",
              "      <td>25.92</td>\n",
              "      <td>20.270000</td>\n",
              "      <td>21.959999</td>\n",
              "      <td>8218800</td>\n",
              "      <td>21.959999</td>\n",
              "    </tr>\n",
              "    <tr>\n",
              "      <th>3</th>\n",
              "      <td>7/2/2010</td>\n",
              "      <td>23.000000</td>\n",
              "      <td>23.10</td>\n",
              "      <td>18.709999</td>\n",
              "      <td>19.200001</td>\n",
              "      <td>5139800</td>\n",
              "      <td>19.200001</td>\n",
              "    </tr>\n",
              "    <tr>\n",
              "      <th>4</th>\n",
              "      <td>7/6/2010</td>\n",
              "      <td>20.000000</td>\n",
              "      <td>20.00</td>\n",
              "      <td>15.830000</td>\n",
              "      <td>16.110001</td>\n",
              "      <td>6866900</td>\n",
              "      <td>16.110001</td>\n",
              "    </tr>\n",
              "  </tbody>\n",
              "</table>\n",
              "</div>"
            ],
            "text/plain": [
              "        Date       Open   High        Low      Close    Volume  Adj Close\n",
              "0  6/29/2010  19.000000  25.00  17.540001  23.889999  18766300  23.889999\n",
              "1  6/30/2010  25.790001  30.42  23.299999  23.830000  17187100  23.830000\n",
              "2   7/1/2010  25.000000  25.92  20.270000  21.959999   8218800  21.959999\n",
              "3   7/2/2010  23.000000  23.10  18.709999  19.200001   5139800  19.200001\n",
              "4   7/6/2010  20.000000  20.00  15.830000  16.110001   6866900  16.110001"
            ]
          },
          "metadata": {
            "tags": []
          },
          "execution_count": 3
        }
      ]
    },
    {
      "cell_type": "code",
      "metadata": {
        "colab": {
          "base_uri": "https://localhost:8080/"
        },
        "id": "V8FzGLdFDOmO",
        "outputId": "cea62bc5-eceb-4c44-d267-fa71094e76fc"
      },
      "source": [
        "training=r['Open']\n",
        "print(training.head())\n",
        "train=  r.iloc[:,1:2].values"
      ],
      "execution_count": 16,
      "outputs": [
        {
          "output_type": "stream",
          "text": [
            "0    19.000000\n",
            "1    25.790001\n",
            "2    25.000000\n",
            "3    23.000000\n",
            "4    20.000000\n",
            "Name: Open, dtype: float64\n"
          ],
          "name": "stdout"
        }
      ]
    },
    {
      "cell_type": "code",
      "metadata": {
        "id": "2_K2UFmKIcRw"
      },
      "source": [
        "from sklearn.preprocessing import MinMaxScaler\n",
        "sc=MinMaxScaler(feature_range=(0,1))\n",
        "train_scale=sc.fit_transform(train)\n",
        "x=[]\n",
        "y=[]"
      ],
      "execution_count": 21,
      "outputs": []
    },
    {
      "cell_type": "code",
      "metadata": {
        "id": "AVGf-AjlIk6J"
      },
      "source": [
        "for i in range(60,len(train_scale)):\n",
        "  x.append(train_scale[i-60:i,0])\n",
        "  y.append(train_scale[i,0])\n",
        "x=np.array(x)\n",
        "y=np.array(y)  "
      ],
      "execution_count": 25,
      "outputs": []
    },
    {
      "cell_type": "code",
      "metadata": {
        "colab": {
          "base_uri": "https://localhost:8080/"
        },
        "id": "xJca4s3TLBtm",
        "outputId": "95798640-d55f-4603-9c86-95eac4e9c1f8"
      },
      "source": [
        "print(y[0])"
      ],
      "execution_count": 26,
      "outputs": [
        {
          "output_type": "stream",
          "text": [
            "0.013810627947745034\n"
          ],
          "name": "stdout"
        }
      ]
    },
    {
      "cell_type": "code",
      "metadata": {
        "id": "8Q6srK1oLEZf"
      },
      "source": [
        "x=np.reshape(x,(x.shape[0],x.shape[1],1))"
      ],
      "execution_count": 28,
      "outputs": []
    },
    {
      "cell_type": "code",
      "metadata": {
        "id": "5sGq1U9rM92E"
      },
      "source": [
        "from keras.models import Sequential\n",
        "from keras.layers import  Dense\n",
        "from keras.layers import  LSTM\n",
        "from  keras.layers import Dropout"
      ],
      "execution_count": 30,
      "outputs": []
    },
    {
      "cell_type": "code",
      "metadata": {
        "colab": {
          "base_uri": "https://localhost:8080/"
        },
        "id": "r9I_ud_DNvsa",
        "outputId": "a5031d46-9339-4393-c09b-1721ea3e2fda"
      },
      "source": [
        "reg=Sequential()\n",
        "reg.add(LSTM(units=50,return_sequences=True,input_shape=(x.shape[1],1)))\n",
        "reg.add(Dropout(0.2))\n",
        "reg.add(LSTM(units=50,return_sequences=True))\n",
        "reg.add(Dropout(0.2))\n",
        "reg.add(LSTM(units=50))\n",
        "reg.add(Dropout(0.2))\n",
        "reg.add(Dense(units=1))\n",
        "reg.compile(optimizer='Adam',loss='mean_squared_error')\n",
        "reg.fit(x,y,epochs=50,batch_size=32)\n"
      ],
      "execution_count": 33,
      "outputs": [
        {
          "output_type": "stream",
          "text": [
            "Epoch 1/50\n",
            "102/102 [==============================] - 10s 59ms/step - loss: 0.0528\n",
            "Epoch 2/50\n",
            "102/102 [==============================] - 6s 62ms/step - loss: 0.0049\n",
            "Epoch 3/50\n",
            "102/102 [==============================] - 6s 62ms/step - loss: 0.0048\n",
            "Epoch 4/50\n",
            "102/102 [==============================] - 7s 64ms/step - loss: 0.0043\n",
            "Epoch 5/50\n",
            "102/102 [==============================] - 6s 63ms/step - loss: 0.0043\n",
            "Epoch 6/50\n",
            "102/102 [==============================] - 7s 65ms/step - loss: 0.0041\n",
            "Epoch 7/50\n",
            "102/102 [==============================] - 7s 66ms/step - loss: 0.0038\n",
            "Epoch 8/50\n",
            "102/102 [==============================] - 6s 64ms/step - loss: 0.0037\n",
            "Epoch 9/50\n",
            "102/102 [==============================] - 7s 65ms/step - loss: 0.0033\n",
            "Epoch 10/50\n",
            "102/102 [==============================] - 7s 66ms/step - loss: 0.0034\n",
            "Epoch 11/50\n",
            "102/102 [==============================] - 7s 65ms/step - loss: 0.0031\n",
            "Epoch 12/50\n",
            "102/102 [==============================] - 6s 63ms/step - loss: 0.0030\n",
            "Epoch 13/50\n",
            "102/102 [==============================] - 7s 64ms/step - loss: 0.0030\n",
            "Epoch 14/50\n",
            "102/102 [==============================] - 7s 65ms/step - loss: 0.0032\n",
            "Epoch 15/50\n",
            "102/102 [==============================] - 6s 64ms/step - loss: 0.0025\n",
            "Epoch 16/50\n",
            "102/102 [==============================] - 6s 63ms/step - loss: 0.0029\n",
            "Epoch 17/50\n",
            "102/102 [==============================] - 7s 65ms/step - loss: 0.0027\n",
            "Epoch 18/50\n",
            "102/102 [==============================] - 7s 64ms/step - loss: 0.0024\n",
            "Epoch 19/50\n",
            "102/102 [==============================] - 7s 64ms/step - loss: 0.0027\n",
            "Epoch 20/50\n",
            "102/102 [==============================] - 7s 66ms/step - loss: 0.0027\n",
            "Epoch 21/50\n",
            "102/102 [==============================] - 6s 64ms/step - loss: 0.0023\n",
            "Epoch 22/50\n",
            "102/102 [==============================] - 7s 66ms/step - loss: 0.0026\n",
            "Epoch 23/50\n",
            "102/102 [==============================] - 7s 65ms/step - loss: 0.0022\n",
            "Epoch 24/50\n",
            "102/102 [==============================] - 6s 63ms/step - loss: 0.0024\n",
            "Epoch 25/50\n",
            "102/102 [==============================] - 6s 63ms/step - loss: 0.0020\n",
            "Epoch 26/50\n",
            "102/102 [==============================] - 6s 63ms/step - loss: 0.0020\n",
            "Epoch 27/50\n",
            "102/102 [==============================] - 6s 63ms/step - loss: 0.0019\n",
            "Epoch 28/50\n",
            "102/102 [==============================] - 7s 65ms/step - loss: 0.0018\n",
            "Epoch 29/50\n",
            "102/102 [==============================] - 6s 63ms/step - loss: 0.0021\n",
            "Epoch 30/50\n",
            "102/102 [==============================] - 7s 64ms/step - loss: 0.0019\n",
            "Epoch 31/50\n",
            "102/102 [==============================] - 7s 64ms/step - loss: 0.0019\n",
            "Epoch 32/50\n",
            "102/102 [==============================] - 6s 63ms/step - loss: 0.0018\n",
            "Epoch 33/50\n",
            "102/102 [==============================] - 6s 63ms/step - loss: 0.0017\n",
            "Epoch 34/50\n",
            "102/102 [==============================] - 7s 64ms/step - loss: 0.0019\n",
            "Epoch 35/50\n",
            "102/102 [==============================] - 7s 65ms/step - loss: 0.0019\n",
            "Epoch 36/50\n",
            "102/102 [==============================] - 7s 64ms/step - loss: 0.0016\n",
            "Epoch 37/50\n",
            "102/102 [==============================] - 7s 65ms/step - loss: 0.0015\n",
            "Epoch 38/50\n",
            "102/102 [==============================] - 7s 66ms/step - loss: 0.0016\n",
            "Epoch 39/50\n",
            "102/102 [==============================] - 7s 64ms/step - loss: 0.0016\n",
            "Epoch 40/50\n",
            "102/102 [==============================] - 7s 64ms/step - loss: 0.0016\n",
            "Epoch 41/50\n",
            "102/102 [==============================] - 7s 65ms/step - loss: 0.0016\n",
            "Epoch 42/50\n",
            "102/102 [==============================] - 7s 64ms/step - loss: 0.0015\n",
            "Epoch 43/50\n",
            "102/102 [==============================] - 7s 64ms/step - loss: 0.0015\n",
            "Epoch 44/50\n",
            "102/102 [==============================] - 7s 64ms/step - loss: 0.0016\n",
            "Epoch 45/50\n",
            "102/102 [==============================] - 7s 64ms/step - loss: 0.0015\n",
            "Epoch 46/50\n",
            "102/102 [==============================] - 6s 64ms/step - loss: 0.0016\n",
            "Epoch 47/50\n",
            "102/102 [==============================] - 6s 63ms/step - loss: 0.0014\n",
            "Epoch 48/50\n",
            "102/102 [==============================] - 7s 64ms/step - loss: 0.0015\n",
            "Epoch 49/50\n",
            "102/102 [==============================] - 6s 63ms/step - loss: 0.0014\n",
            "Epoch 50/50\n",
            "102/102 [==============================] - 7s 64ms/step - loss: 0.0014\n"
          ],
          "name": "stdout"
        },
        {
          "output_type": "execute_result",
          "data": {
            "text/plain": [
              "<tensorflow.python.keras.callbacks.History at 0x7fa756e19610>"
            ]
          },
          "metadata": {
            "tags": []
          },
          "execution_count": 33
        }
      ]
    },
    {
      "cell_type": "code",
      "metadata": {
        "id": "27W2tgbuPEn2"
      },
      "source": [
        "dataset_test = pd.read_csv('tesla_test.csv')\n",
        "real_stock_price = dataset_test.iloc[:, 1:2].values\n",
        "\n",
        "# Getting the predicted stock price of 2017\n",
        "dataset_total = pd.concat((r['Open'], dataset_test['Open']), axis = 0)\n",
        "inputs = dataset_total[len(dataset_total) - len(dataset_test) - 60:].values\n",
        "inputs = inputs.reshape(-1,1)\n",
        "inputs = sc.transform(inputs)\n",
        "X_test = []\n",
        "for i in range(60, 72):\n",
        "    X_test.append(inputs[i-60:i, 0])\n",
        "X_test = np.array(X_test)\n",
        "X_test = np.reshape(X_test, (X_test.shape[0], X_test.shape[1], 1))\n",
        "predicted_stock_price = reg.predict(X_test)\n",
        "predicted_stock_price = sc.inverse_transform(predicted_stock_price)\n"
      ],
      "execution_count": 37,
      "outputs": []
    },
    {
      "cell_type": "code",
      "metadata": {
        "colab": {
          "base_uri": "https://localhost:8080/",
          "height": 282
        },
        "id": "cJJoSdBBTJCP",
        "outputId": "0839c926-5752-4a57-8b28-548fc35ce87a"
      },
      "source": [
        "x=(predicted_stock_price)\n",
        "y=(real_stock_price)\n",
        "plt.plot(x)\n",
        "plt.plot(y)"
      ],
      "execution_count": 43,
      "outputs": [
        {
          "output_type": "execute_result",
          "data": {
            "text/plain": [
              "[<matplotlib.lines.Line2D at 0x7fa7535c0c10>]"
            ]
          },
          "metadata": {
            "tags": []
          },
          "execution_count": 43
        },
        {
          "output_type": "display_data",
          "data": {
            "image/png": "[encoded data removed]",
            "text/plain": [
              "<Figure size 432x288 with 1 Axes>"
            ]
          },
          "metadata": {
            "tags": [],
            "needs_background": "light"
          }
        }
      ]
    },
    {
      "cell_type": "code",
      "metadata": {
        "id": "Hp-Z5NTZTvFB"
      },
      "source": [
        ""
      ],
      "execution_count": null,
      "outputs": []
    }
  ]
}